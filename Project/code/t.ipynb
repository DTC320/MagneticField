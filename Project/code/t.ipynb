{
 "cells": [
  {
   "cell_type": "code",
   "execution_count": 13,
   "metadata": {},
   "outputs": [],
   "source": [
    "import numpy as np\n",
    "import torch\n",
    "import torch.nn as nn\n",
    "import torch.optim as optim\n",
    "from torch.utils.data import DataLoader, TensorDataset\n",
    "from sklearn.model_selection import train_test_split\n",
    "import os"
   ]
  },
  {
   "cell_type": "code",
   "execution_count": 14,
   "metadata": {},
   "outputs": [],
   "source": [
    "# 设定超参数\n",
    "batch_size = 128\n",
    "learning_rate = 0.001\n",
    "num_epochs = 100\n",
    "device = torch.device(\"cuda\" if torch.cuda.is_available() else \"cpu\")"
   ]
  },
  {
   "cell_type": "code",
   "execution_count": 15,
   "metadata": {},
   "outputs": [],
   "source": [
    "# (5000, 1, 32, 32)的numpy数组\n",
    "data = np.load(\"data4D.npy\")"
   ]
  },
  {
   "cell_type": "code",
   "execution_count": 8,
   "metadata": {},
   "outputs": [],
   "source": [
    "data_tensor = torch.from_numpy(data)\n",
    "dataset = TensorDataset(data_tensor)\n",
    "dataloader = DataLoader(dataset, batch_size=batch_size, shuffle=True)"
   ]
  },
  {
   "cell_type": "code",
   "execution_count": 10,
   "metadata": {},
   "outputs": [
    {
     "name": "stderr",
     "output_type": "stream",
     "text": [
      "[W NNPACK.cpp:51] Could not initialize NNPACK! Reason: Unsupported hardware.\n"
     ]
    },
    {
     "name": "stdout",
     "output_type": "stream",
     "text": [
      "Epoch [1/100], Loss: 0.0488\n",
      "Epoch [2/100], Loss: 0.0557\n",
      "Epoch [3/100], Loss: 0.0473\n",
      "Epoch [4/100], Loss: 0.0513\n",
      "Epoch [5/100], Loss: 0.0448\n",
      "Epoch [6/100], Loss: 0.0660\n",
      "Epoch [7/100], Loss: 0.0583\n",
      "Epoch [8/100], Loss: 0.0504\n",
      "Epoch [9/100], Loss: 0.0578\n",
      "Epoch [10/100], Loss: 0.0515\n",
      "Epoch [11/100], Loss: 0.0588\n",
      "Epoch [12/100], Loss: 0.0513\n",
      "Epoch [13/100], Loss: 0.0543\n",
      "Epoch [14/100], Loss: 0.0490\n",
      "Epoch [15/100], Loss: 0.0385\n",
      "Epoch [16/100], Loss: 0.0418\n",
      "Epoch [17/100], Loss: 0.0427\n",
      "Epoch [18/100], Loss: 0.0563\n",
      "Epoch [19/100], Loss: 0.0530\n",
      "Epoch [20/100], Loss: 0.0448\n",
      "Epoch [21/100], Loss: 0.0664\n",
      "Epoch [22/100], Loss: 0.0426\n",
      "Epoch [23/100], Loss: 0.0303\n",
      "Epoch [24/100], Loss: 0.0441\n",
      "Epoch [25/100], Loss: 0.0621\n",
      "Epoch [26/100], Loss: 0.0435\n",
      "Epoch [27/100], Loss: 0.0424\n",
      "Epoch [28/100], Loss: 0.0410\n",
      "Epoch [29/100], Loss: 0.0439\n",
      "Epoch [30/100], Loss: 0.0374\n",
      "Epoch [31/100], Loss: 0.0423\n",
      "Epoch [32/100], Loss: 0.0345\n",
      "Epoch [33/100], Loss: 0.0466\n",
      "Epoch [34/100], Loss: 0.0347\n",
      "Epoch [35/100], Loss: 0.0427\n",
      "Epoch [36/100], Loss: 0.0409\n",
      "Epoch [37/100], Loss: 0.0560\n",
      "Epoch [38/100], Loss: 0.0516\n",
      "Epoch [39/100], Loss: 0.0459\n",
      "Epoch [40/100], Loss: 0.0397\n",
      "Epoch [41/100], Loss: 0.0400\n",
      "Epoch [42/100], Loss: 0.0356\n",
      "Epoch [43/100], Loss: 0.0381\n",
      "Epoch [44/100], Loss: 0.0332\n",
      "Epoch [45/100], Loss: 0.0394\n",
      "Epoch [46/100], Loss: 0.0406\n",
      "Epoch [47/100], Loss: 0.0403\n",
      "Epoch [48/100], Loss: 0.0399\n",
      "Epoch [49/100], Loss: 0.0445\n",
      "Epoch [50/100], Loss: 0.0274\n",
      "Epoch [51/100], Loss: 0.0380\n",
      "Epoch [52/100], Loss: 0.0265\n",
      "Epoch [53/100], Loss: 0.0526\n",
      "Epoch [54/100], Loss: 0.0474\n",
      "Epoch [55/100], Loss: 0.0335\n",
      "Epoch [56/100], Loss: 0.0547\n",
      "Epoch [57/100], Loss: 0.0370\n",
      "Epoch [58/100], Loss: 0.0526\n",
      "Epoch [59/100], Loss: 0.0381\n",
      "Epoch [60/100], Loss: 0.0409\n",
      "Epoch [61/100], Loss: 0.0562\n",
      "Epoch [62/100], Loss: 0.0345\n",
      "Epoch [63/100], Loss: 0.0434\n",
      "Epoch [64/100], Loss: 0.0315\n",
      "Epoch [65/100], Loss: 0.0308\n",
      "Epoch [66/100], Loss: 0.0302\n",
      "Epoch [67/100], Loss: 0.0280\n",
      "Epoch [68/100], Loss: 0.0346\n",
      "Epoch [69/100], Loss: 0.0361\n",
      "Epoch [70/100], Loss: 0.0403\n",
      "Epoch [71/100], Loss: 0.0386\n",
      "Epoch [72/100], Loss: 0.0420\n",
      "Epoch [73/100], Loss: 0.0417\n",
      "Epoch [74/100], Loss: 0.0292\n",
      "Epoch [75/100], Loss: 0.0268\n",
      "Epoch [76/100], Loss: 0.0319\n",
      "Epoch [77/100], Loss: 0.0265\n",
      "Epoch [78/100], Loss: 0.0283\n",
      "Epoch [79/100], Loss: 0.0357\n",
      "Epoch [80/100], Loss: 0.0317\n",
      "Epoch [81/100], Loss: 0.0253\n",
      "Epoch [82/100], Loss: 0.0300\n",
      "Epoch [83/100], Loss: 0.0311\n",
      "Epoch [84/100], Loss: 0.0342\n",
      "Epoch [85/100], Loss: 0.0348\n",
      "Epoch [86/100], Loss: 0.0405\n",
      "Epoch [87/100], Loss: 0.0248\n",
      "Epoch [88/100], Loss: 0.0361\n",
      "Epoch [89/100], Loss: 0.0285\n",
      "Epoch [90/100], Loss: 0.0390\n",
      "Epoch [91/100], Loss: 0.0224\n",
      "Epoch [92/100], Loss: 0.0332\n",
      "Epoch [93/100], Loss: 0.0327\n",
      "Epoch [94/100], Loss: 0.0396\n",
      "Epoch [95/100], Loss: 0.0309\n",
      "Epoch [96/100], Loss: 0.0307\n",
      "Epoch [97/100], Loss: 0.0380\n",
      "Epoch [98/100], Loss: 0.0298\n",
      "Epoch [99/100], Loss: 0.0434\n",
      "Epoch [100/100], Loss: 0.0261\n",
      "Training completed.\n"
     ]
    }
   ],
   "source": [
    "# 定义自编码器结构\n",
    "class Autoencoder(nn.Module):\n",
    "    def __init__(self):\n",
    "        super(Autoencoder, self).__init__()\n",
    "        self.encoder = nn.Sequential(\n",
    "            nn.Conv2d(3, 16, 3, stride=2, padding=1),\n",
    "            nn.ReLU(),\n",
    "            nn.Conv2d(16, 32, 3, stride=2, padding=1),\n",
    "            nn.ReLU(),\n",
    "            nn.Conv2d(32, 64, 3, stride=2, padding=1),\n",
    "            nn.ReLU(),\n",
    "            nn.Conv2d(64, 128, 3, stride=2, padding=1),\n",
    "            nn.ReLU()\n",
    "        )\n",
    "        self.decoder = nn.Sequential(\n",
    "            nn.ConvTranspose2d(128, 64, 3, stride=2, padding=1, output_padding=1),\n",
    "            nn.ReLU(),\n",
    "            nn.ConvTranspose2d(64, 32, 3, stride=2, padding=1, output_padding=1),\n",
    "            nn.ReLU(),\n",
    "            nn.ConvTranspose2d(32, 16, 3, stride=2, padding=1, output_padding=1),\n",
    "            nn.ReLU(),\n",
    "            nn.ConvTranspose2d(16, 3, 3, stride=2, padding=1, output_padding=1),\n",
    "            nn.Sigmoid()\n",
    "        )\n",
    "\n",
    "    def forward(self, x):\n",
    "        x = self.encoder(x)\n",
    "        x = self.decoder(x)\n",
    "        return x\n",
    "\n",
    "\n",
    "# 初始化自编码器并将其移至相应的设备（CPU或GPU）\n",
    "model = Autoencoder().to(device)\n",
    "\n",
    "# 定义损失函数和优化器\n",
    "criterion = nn.MSELoss()\n",
    "optimizer = optim.Adam(model.parameters(), lr=learning_rate)\n",
    "\n",
    "# 训练自编码器\n",
    "for epoch in range(num_epochs):\n",
    "    for data in dataloader:\n",
    "        img = data[0].to(device)\n",
    "        # 前向传播\n",
    "        output = model(img)\n",
    "        loss = criterion(output, img)\n",
    "\n",
    "        # 反向传播\n",
    "        optimizer.zero_grad()\n",
    "        loss.backward()\n",
    "        optimizer.step()\n",
    "\n",
    "    # 输出日志信息\n",
    "    print(f'Epoch [{epoch+1}/{num_epochs}], Loss: {loss.item():.4f}')\n",
    "\n",
    "print(\"Training completed.\")"
   ]
  },
  {
   "cell_type": "code",
   "execution_count": 11,
   "metadata": {},
   "outputs": [
    {
     "name": "stdout",
     "output_type": "stream",
     "text": [
      "Model weights saved.\n"
     ]
    }
   ],
   "source": [
    "# 保存模型权重\n",
    "model_path = \"autoencoder_weights.pth\"\n",
    "torch.save(model.state_dict(), model_path)\n",
    "print(\"Model weights saved.\")"
   ]
  },
  {
   "cell_type": "code",
   "execution_count": 12,
   "metadata": {},
   "outputs": [
    {
     "name": "stdout",
     "output_type": "stream",
     "text": [
      "Model weights loaded.\n"
     ]
    }
   ],
   "source": [
    "# 加载模型权重\n",
    "loaded_model = Autoencoder().to(device)\n",
    "loaded_model.load_state_dict(torch.load(model_path))\n",
    "loaded_model.eval()\n",
    "print(\"Model weights loaded.\")\n"
   ]
  }
 ],
 "metadata": {
  "kernelspec": {
   "display_name": "Python 3",
   "language": "python",
   "name": "python3"
  },
  "language_info": {
   "codemirror_mode": {
    "name": "ipython",
    "version": 3
   },
   "file_extension": ".py",
   "mimetype": "text/x-python",
   "name": "python",
   "nbconvert_exporter": "python",
   "pygments_lexer": "ipython3",
   "version": "3.10.9"
  },
  "orig_nbformat": 4
 },
 "nbformat": 4,
 "nbformat_minor": 2
}
