{
 "cells": [
  {
   "cell_type": "code",
   "execution_count": 1,
   "metadata": {},
   "outputs": [],
   "source": [
    "import numpy as np\n",
    "import torch\n",
    "import torch.nn as nn\n",
    "import torch.optim as optim\n",
    "from torch.utils.data import DataLoader, TensorDataset\n",
    "from sklearn.model_selection import train_test_split\n",
    "import os"
   ]
  },
  {
   "cell_type": "code",
   "execution_count": 2,
   "metadata": {},
   "outputs": [],
   "source": [
    "# 设定超参数\n",
    "batch_size = 128\n",
    "learning_rate = 0.001\n",
    "num_epochs = 100\n",
    "device = torch.device(\"cuda\" if torch.cuda.is_available() else \"cpu\")"
   ]
  },
  {
   "cell_type": "code",
   "execution_count": 3,
   "metadata": {},
   "outputs": [],
   "source": [
    "# (5000, 1, 32, 32)的numpy数组\n",
    "data = np.load(\"data4D.npy\")"
   ]
  },
  {
   "cell_type": "code",
   "execution_count": 10,
   "metadata": {},
   "outputs": [],
   "source": [
    "# 将数据集划分为训练集、验证集和测试集\n",
    "train_data, temp_data = train_test_split(data, test_size=0.4, random_state=42)\n",
    "validation_data, test_data = train_test_split(temp_data, test_size=0.5, random_state=42)\n",
    "\n",
    "# 将NumPy数组转换为张量\n",
    "train_data_tensor = torch.from_numpy(train_data)\n",
    "validation_data_tensor = torch.from_numpy(validation_data)\n",
    "test_data_tensor = torch.from_numpy(test_data)\n",
    "\n",
    "# 创建DataLoader\n",
    "batch_size = 128\n",
    "train_dataset = TensorDataset(train_data_tensor)\n",
    "train_loader = DataLoader(train_dataset, batch_size=batch_size, shuffle=True)\n",
    "\n",
    "validation_dataset = TensorDataset(validation_data_tensor)\n",
    "validation_loader = DataLoader(validation_dataset, batch_size=batch_size, shuffle=False)\n"
   ]
  },
  {
   "cell_type": "code",
   "execution_count": 5,
   "metadata": {},
   "outputs": [],
   "source": [
    "class Autoencoder(nn.Module):\n",
    "    def __init__(self):\n",
    "        super(Autoencoder, self).__init__()\n",
    "        self.encoder = nn.Sequential(\n",
    "            nn.Conv2d(3, 16, 3, stride=2, padding=1),\n",
    "            nn.ReLU(),\n",
    "            nn.Conv2d(16, 32, 3, stride=2, padding=1),\n",
    "            nn.ReLU(),\n",
    "            nn.Conv2d(32, 64, 3, stride=2, padding=1),\n",
    "            nn.ReLU(),\n",
    "            nn.Conv2d(64, 128, 3, stride=2, padding=1),\n",
    "            nn.ReLU()\n",
    "        )\n",
    "        self.decoder = nn.Sequential(\n",
    "            nn.ConvTranspose2d(128, 64, 3, stride=2, padding=1, output_padding=1),\n",
    "            nn.ReLU(),\n",
    "            nn.ConvTranspose2d(64, 32, 3, stride=2, padding=1, output_padding=1),\n",
    "            nn.ReLU(),\n",
    "            nn.ConvTranspose2d(32, 16, 3, stride=2, padding=1, output_padding=1),\n",
    "            nn.ReLU(),\n",
    "            nn.ConvTranspose2d(16, 3, 3, stride=2, padding=1, output_padding=1),\n",
    "            nn.Sigmoid()\n",
    "        )\n",
    "\n",
    "    def forward(self, x):\n",
    "        x = self.encoder(x)\n",
    "        x = self.decoder(x)\n",
    "        return x"
   ]
  },
  {
   "cell_type": "code",
   "execution_count": 9,
   "metadata": {},
   "outputs": [],
   "source": [
    "device = torch.device(\"cuda\" if torch.cuda.is_available() else \"cpu\")\n",
    "model = Autoencoder().to(device)\n",
    "criterion = nn.MSELoss()\n",
    "optimizer = optim.Adam(model.parameters(), lr=1e-3)"
   ]
  },
  {
   "cell_type": "code",
   "execution_count": 11,
   "metadata": {},
   "outputs": [
    {
     "name": "stdout",
     "output_type": "stream",
     "text": [
      "Epoch [1/100], Train Loss: 0.2745, Validation Loss: 0.0926\n",
      "Epoch [2/100], Train Loss: 0.0588, Validation Loss: 0.0521\n",
      "Epoch [3/100], Train Loss: 0.0524, Validation Loss: 0.0521\n",
      "Epoch [4/100], Train Loss: 0.0524, Validation Loss: 0.0521\n",
      "Epoch [5/100], Train Loss: 0.0524, Validation Loss: 0.0521\n",
      "Epoch [6/100], Train Loss: 0.0524, Validation Loss: 0.0521\n",
      "Epoch [7/100], Train Loss: 0.0524, Validation Loss: 0.0521\n",
      "Epoch [8/100], Train Loss: 0.0524, Validation Loss: 0.0521\n",
      "Epoch [9/100], Train Loss: 0.0524, Validation Loss: 0.0521\n",
      "Epoch [10/100], Train Loss: 0.0524, Validation Loss: 0.0521\n",
      "Epoch [11/100], Train Loss: 0.0524, Validation Loss: 0.0521\n",
      "Epoch [12/100], Train Loss: 0.0524, Validation Loss: 0.0521\n",
      "Epoch [13/100], Train Loss: 0.0524, Validation Loss: 0.0521\n",
      "Epoch [14/100], Train Loss: 0.0524, Validation Loss: 0.0521\n",
      "Epoch [15/100], Train Loss: 0.0524, Validation Loss: 0.0521\n",
      "Epoch [16/100], Train Loss: 0.0524, Validation Loss: 0.0521\n",
      "Epoch [17/100], Train Loss: 0.0524, Validation Loss: 0.0521\n",
      "Epoch [18/100], Train Loss: 0.0524, Validation Loss: 0.0521\n",
      "Epoch [19/100], Train Loss: 0.0524, Validation Loss: 0.0521\n",
      "Epoch [20/100], Train Loss: 0.0524, Validation Loss: 0.0521\n",
      "Epoch [21/100], Train Loss: 0.0524, Validation Loss: 0.0521\n",
      "Epoch [22/100], Train Loss: 0.0524, Validation Loss: 0.0521\n",
      "Epoch [23/100], Train Loss: 0.0524, Validation Loss: 0.0521\n",
      "Epoch [24/100], Train Loss: 0.0524, Validation Loss: 0.0521\n",
      "Epoch [25/100], Train Loss: 0.0524, Validation Loss: 0.0521\n",
      "Epoch [26/100], Train Loss: 0.0524, Validation Loss: 0.0521\n",
      "Epoch [27/100], Train Loss: 0.0524, Validation Loss: 0.0521\n",
      "Epoch [28/100], Train Loss: 0.0524, Validation Loss: 0.0521\n",
      "Epoch [29/100], Train Loss: 0.0524, Validation Loss: 0.0521\n",
      "Epoch [30/100], Train Loss: 0.0524, Validation Loss: 0.0521\n",
      "Epoch [31/100], Train Loss: 0.0524, Validation Loss: 0.0521\n",
      "Epoch [32/100], Train Loss: 0.0524, Validation Loss: 0.0521\n",
      "Epoch [33/100], Train Loss: 0.0524, Validation Loss: 0.0521\n",
      "Epoch [34/100], Train Loss: 0.0524, Validation Loss: 0.0521\n",
      "Epoch [35/100], Train Loss: 0.0524, Validation Loss: 0.0520\n",
      "Epoch [36/100], Train Loss: 0.0524, Validation Loss: 0.0520\n",
      "Epoch [37/100], Train Loss: 0.0523, Validation Loss: 0.0520\n",
      "Epoch [38/100], Train Loss: 0.0523, Validation Loss: 0.0519\n",
      "Epoch [39/100], Train Loss: 0.0523, Validation Loss: 0.0520\n",
      "Epoch [40/100], Train Loss: 0.0522, Validation Loss: 0.0516\n",
      "Epoch [41/100], Train Loss: 0.0513, Validation Loss: 0.0503\n",
      "Epoch [42/100], Train Loss: 0.0496, Validation Loss: 0.0485\n",
      "Epoch [43/100], Train Loss: 0.0478, Validation Loss: 0.0473\n",
      "Epoch [44/100], Train Loss: 0.0469, Validation Loss: 0.0466\n",
      "Epoch [45/100], Train Loss: 0.0465, Validation Loss: 0.0463\n",
      "Epoch [46/100], Train Loss: 0.0462, Validation Loss: 0.0461\n",
      "Epoch [47/100], Train Loss: 0.0460, Validation Loss: 0.0460\n",
      "Epoch [48/100], Train Loss: 0.0458, Validation Loss: 0.0458\n",
      "Epoch [49/100], Train Loss: 0.0457, Validation Loss: 0.0457\n",
      "Epoch [50/100], Train Loss: 0.0456, Validation Loss: 0.0456\n",
      "Epoch [51/100], Train Loss: 0.0455, Validation Loss: 0.0455\n",
      "Epoch [52/100], Train Loss: 0.0454, Validation Loss: 0.0454\n",
      "Epoch [53/100], Train Loss: 0.0454, Validation Loss: 0.0454\n",
      "Epoch [54/100], Train Loss: 0.0453, Validation Loss: 0.0454\n",
      "Epoch [55/100], Train Loss: 0.0453, Validation Loss: 0.0453\n",
      "Epoch [56/100], Train Loss: 0.0453, Validation Loss: 0.0453\n",
      "Epoch [57/100], Train Loss: 0.0452, Validation Loss: 0.0453\n",
      "Epoch [58/100], Train Loss: 0.0452, Validation Loss: 0.0453\n",
      "Epoch [59/100], Train Loss: 0.0452, Validation Loss: 0.0452\n",
      "Epoch [60/100], Train Loss: 0.0451, Validation Loss: 0.0452\n",
      "Epoch [61/100], Train Loss: 0.0451, Validation Loss: 0.0452\n",
      "Epoch [62/100], Train Loss: 0.0451, Validation Loss: 0.0452\n",
      "Epoch [63/100], Train Loss: 0.0450, Validation Loss: 0.0451\n",
      "Epoch [64/100], Train Loss: 0.0450, Validation Loss: 0.0451\n",
      "Epoch [65/100], Train Loss: 0.0449, Validation Loss: 0.0450\n",
      "Epoch [66/100], Train Loss: 0.0449, Validation Loss: 0.0449\n",
      "Epoch [67/100], Train Loss: 0.0448, Validation Loss: 0.0449\n",
      "Epoch [68/100], Train Loss: 0.0447, Validation Loss: 0.0447\n",
      "Epoch [69/100], Train Loss: 0.0445, Validation Loss: 0.0444\n",
      "Epoch [70/100], Train Loss: 0.0436, Validation Loss: 0.0428\n",
      "Epoch [71/100], Train Loss: 0.0421, Validation Loss: 0.0419\n",
      "Epoch [72/100], Train Loss: 0.0414, Validation Loss: 0.0415\n",
      "Epoch [73/100], Train Loss: 0.0411, Validation Loss: 0.0412\n",
      "Epoch [74/100], Train Loss: 0.0408, Validation Loss: 0.0409\n",
      "Epoch [75/100], Train Loss: 0.0406, Validation Loss: 0.0407\n",
      "Epoch [76/100], Train Loss: 0.0404, Validation Loss: 0.0406\n",
      "Epoch [77/100], Train Loss: 0.0403, Validation Loss: 0.0405\n",
      "Epoch [78/100], Train Loss: 0.0401, Validation Loss: 0.0404\n",
      "Epoch [79/100], Train Loss: 0.0400, Validation Loss: 0.0403\n",
      "Epoch [80/100], Train Loss: 0.0399, Validation Loss: 0.0402\n",
      "Epoch [81/100], Train Loss: 0.0397, Validation Loss: 0.0401\n",
      "Epoch [82/100], Train Loss: 0.0396, Validation Loss: 0.0399\n",
      "Epoch [83/100], Train Loss: 0.0395, Validation Loss: 0.0397\n",
      "Epoch [84/100], Train Loss: 0.0393, Validation Loss: 0.0395\n",
      "Epoch [85/100], Train Loss: 0.0390, Validation Loss: 0.0392\n",
      "Epoch [86/100], Train Loss: 0.0383, Validation Loss: 0.0383\n",
      "Epoch [87/100], Train Loss: 0.0374, Validation Loss: 0.0373\n",
      "Epoch [88/100], Train Loss: 0.0365, Validation Loss: 0.0366\n",
      "Epoch [89/100], Train Loss: 0.0359, Validation Loss: 0.0363\n",
      "Epoch [90/100], Train Loss: 0.0354, Validation Loss: 0.0357\n",
      "Epoch [91/100], Train Loss: 0.0349, Validation Loss: 0.0352\n",
      "Epoch [92/100], Train Loss: 0.0345, Validation Loss: 0.0348\n",
      "Epoch [93/100], Train Loss: 0.0341, Validation Loss: 0.0345\n",
      "Epoch [94/100], Train Loss: 0.0338, Validation Loss: 0.0342\n",
      "Epoch [95/100], Train Loss: 0.0335, Validation Loss: 0.0339\n",
      "Epoch [96/100], Train Loss: 0.0333, Validation Loss: 0.0338\n",
      "Epoch [97/100], Train Loss: 0.0331, Validation Loss: 0.0336\n",
      "Epoch [98/100], Train Loss: 0.0330, Validation Loss: 0.0334\n",
      "Epoch [99/100], Train Loss: 0.0328, Validation Loss: 0.0332\n",
      "Epoch [100/100], Train Loss: 0.0326, Validation Loss: 0.0331\n",
      "Training and validation complete.\n"
     ]
    }
   ],
   "source": [
    "num_epochs = 100\n",
    "\n",
    "for epoch in range(num_epochs):\n",
    "    # 训练阶段\n",
    "    model.train()\n",
    "    train_loss = 0\n",
    "    for i, (batch,) in enumerate(train_loader):\n",
    "        batch = batch.to(device)\n",
    "        optimizer.zero_grad()\n",
    "        outputs = model(batch)\n",
    "        loss = criterion(outputs, batch)\n",
    "        loss.backward()\n",
    "        optimizer.step()\n",
    "        train_loss += loss.item() * len(batch)\n",
    "\n",
    "    train_loss /= len(train_loader.dataset)\n",
    "\n",
    "    # 验证阶段\n",
    "    model.eval()\n",
    "    validation_loss = 0\n",
    "    with torch.no_grad():\n",
    "        for i, (batch,) in enumerate(validation_loader):\n",
    "            batch = batch.to(device)\n",
    "            outputs = model(batch)\n",
    "            loss = criterion(outputs, batch)\n",
    "            validation_loss += loss.item() * len(batch)\n",
    "\n",
    "    validation_loss /= len(validation_loader.dataset)\n",
    "\n",
    "    print(f\"Epoch [{epoch+1}/{num_epochs}], Train Loss: {train_loss:.4f}, Validation Loss: {validation_loss:.4f}\")\n",
    "\n",
    "print(\"Training and validation complete.\")"
   ]
  },
  {
   "cell_type": "code",
   "execution_count": 12,
   "metadata": {},
   "outputs": [
    {
     "name": "stdout",
     "output_type": "stream",
     "text": [
      "Model weights saved.\n"
     ]
    }
   ],
   "source": [
    "# 保存模型权重\n",
    "model_path = \"autoencoder_weights_t1.pth\"\n",
    "torch.save(model.state_dict(), model_path)\n",
    "print(\"Model weights saved.\")\n"
   ]
  },
  {
   "cell_type": "code",
   "execution_count": 13,
   "metadata": {},
   "outputs": [
    {
     "name": "stdout",
     "output_type": "stream",
     "text": [
      "Test Loss: 0.0326\n"
     ]
    }
   ],
   "source": [
    "# 创建测试集的DataLoader\n",
    "test_dataset = TensorDataset(test_data_tensor)\n",
    "test_loader = DataLoader(test_dataset, batch_size=batch_size, shuffle=False)\n",
    "\n",
    "# 评估模型在测试集上的性能\n",
    "model.eval()\n",
    "test_loss = 0\n",
    "with torch.no_grad():\n",
    "    for i, (batch,) in enumerate(test_loader):\n",
    "        batch = batch.to(device)\n",
    "        outputs = model(batch)\n",
    "        loss = criterion(outputs, batch)\n",
    "        test_loss += loss.item() * len(batch)\n",
    "\n",
    "test_loss /= len(test_loader.dataset)\n",
    "\n",
    "print(f\"Test Loss: {test_loss:.4f}\")\n",
    "\n"
   ]
  }
 ],
 "metadata": {
  "kernelspec": {
   "display_name": "Python 3",
   "language": "python",
   "name": "python3"
  },
  "language_info": {
   "codemirror_mode": {
    "name": "ipython",
    "version": 3
   },
   "file_extension": ".py",
   "mimetype": "text/x-python",
   "name": "python",
   "nbconvert_exporter": "python",
   "pygments_lexer": "ipython3",
   "version": "3.10.9"
  },
  "orig_nbformat": 4
 },
 "nbformat": 4,
 "nbformat_minor": 2
}
