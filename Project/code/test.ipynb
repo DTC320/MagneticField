{
 "cells": [
  {
   "cell_type": "code",
   "execution_count": 20,
   "metadata": {},
   "outputs": [],
   "source": [
    "from aenet import Autoencoder\n",
    "import numpy as np\n",
    "import torch\n",
    "import torch.nn as nn\n",
    "import torch.optim as optim\n",
    "import torchvision\n",
    "from torch.utils.data import DataLoader\n",
    "from torchvision import transforms, datasets\n",
    "from torch.utils.data import Dataset, DataLoader\n",
    "from torch.utils.data import random_split\n",
    "import wandb\n",
    "\n"
   ]
  },
  {
   "cell_type": "code",
   "execution_count": 21,
   "metadata": {},
   "outputs": [],
   "source": [
    "batch_size =16\n",
    "learning_rate = 0.001\n",
    "total_epoch = 100\n",
    "train_step = 0\n",
    "test_step = 0"
   ]
  },
  {
   "cell_type": "code",
   "execution_count": null,
   "metadata": {},
   "outputs": [],
   "source": [
    "net = Autoencoder()\n",
    "loss_fn = nn.MSELoss()\n",
    "opt = optim.SGD(net.parameters(), lr = learning_rate)"
   ]
  },
  {
   "cell_type": "code",
   "execution_count": 12,
   "metadata": {},
   "outputs": [
    {
     "data": {
      "text/plain": [
       "MSELoss()"
      ]
     },
     "execution_count": 12,
     "metadata": {},
     "output_type": "execute_result"
    }
   ],
   "source": [
    "device = torch.device('cuda' if torch.cuda.is_available() else 'cpu')\n",
    "net.to(device)\n",
    "loss_fn.to(device)\n"
   ]
  },
  {
   "cell_type": "code",
   "execution_count": 6,
   "metadata": {},
   "outputs": [
    {
     "name": "stdout",
     "output_type": "stream",
     "text": [
      "(5000, 3, 32, 32)\n"
     ]
    }
   ],
   "source": [
    "#data\n",
    "data = np.load(\"data4D.npy\")\n"
   ]
  },
  {
   "cell_type": "code",
   "execution_count": 7,
   "metadata": {},
   "outputs": [],
   "source": [
    "class MyDataset(Dataset):\n",
    "    def __init__(self, data):\n",
    "        self.data = data\n",
    "        \n",
    "    def __len__(self):\n",
    "        return len(self.data)\n",
    "        \n",
    "    def __getitem__(self, index):\n",
    "        return self.data[index]"
   ]
  },
  {
   "cell_type": "code",
   "execution_count": 19,
   "metadata": {},
   "outputs": [],
   "source": [
    "dataset = MyDataset(data)\n",
    "\n",
    "dataset_size = len(dataset)\n",
    "train_size = int(dataset_size * 0.8)\n",
    "test_size = int(dataset_size * 0.2)\n",
    "\n",
    "train_dataset, test_dataset = random_split(dataset, [train_size, test_size])\n",
    "\n",
    "data_train = DataLoader(train_dataset, batch_size, shuffle = True)\n",
    "data_test = DataLoader(test_dataset, batch_size, shuffle = True)"
   ]
  },
  {
   "cell_type": "code",
   "execution_count": 15,
   "metadata": {},
   "outputs": [
    {
     "name": "stdout",
     "output_type": "stream",
     "text": [
      "1000.0\n"
     ]
    }
   ],
   "source": [
    "\n",
    "wandb.init(project=\"AE_MNIST\")\n",
    "\n",
    "train_loss = []\n",
    "for epoch in range(total_epoch):\n",
    "    running_loss = 0.0\n",
    "    for data in data_train:\n",
    "        img, _ = data\n",
    "            \n",
    "        #forward\n",
    "        output  = net(img)\n",
    "        loss = loss_fn(output, img)\n",
    "            \n",
    "        #backward\n",
    "        opt.zero_grad()\n",
    "        loss.backward()\n",
    "        opt.step()\n",
    "            \n",
    "        running_loss += loss.item()\n",
    "            \n",
    "        if train_step % 100 == 0:\n",
    "            wandb.log({'train_loss': _loss})\n",
    "            print(f\"Train {epoch + 1}\\{total_epoch}  {train_step} loss:{_loss.item():.3f}\")\n",
    "        train_step += 1\n",
    "            \n",
    "        #b. evaluate\n",
    "    net.eval()\n",
    "    with torch.no_grad():\n",
    "        for data in testloader:\n",
    "            img, _ = data\n",
    "            \n",
    "            # forward\n",
    "            outputs = net(img)\n",
    "            loss = loss_fn(outputs, img)\n",
    "\n",
    "            if test_step % 10 == 0:\n",
    "                wandb.log({'test_loss': _loss})\n",
    "                print(f\"Test {epoch + 1}\\{total_epoch}  {test_step} loss:{_loss.item():.3f}\")\n",
    "            test_step += 1\n",
    "                \n",
    "        \n",
    "    #c. save\n",
    "    if epoch % 2 == 0:\n",
    "        torch.save(net, f'M.\\Project\\code\\output\\models\\m_{epoch}.pkl')\n",
    "            \n",
    "torch.save(net, f'./EXE/AE/output/models/m.pkl') \n",
    "wandb.finish()"
   ]
  }
 ],
 "metadata": {
  "kernelspec": {
   "display_name": "pytorch",
   "language": "python",
   "name": "python3"
  },
  "language_info": {
   "codemirror_mode": {
    "name": "ipython",
    "version": 3
   },
   "file_extension": ".py",
   "mimetype": "text/x-python",
   "name": "python",
   "nbconvert_exporter": "python",
   "pygments_lexer": "ipython3",
   "version": "3.8.5"
  },
  "orig_nbformat": 4
 },
 "nbformat": 4,
 "nbformat_minor": 2
}
