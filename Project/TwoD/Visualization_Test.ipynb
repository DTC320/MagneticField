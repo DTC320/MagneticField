{
 "cells": [
  {
   "cell_type": "code",
   "execution_count": 1,
   "metadata": {
    "collapsed": true,
    "pycharm": {
     "name": "#%%\n"
    }
   },
   "outputs": [
    {
     "name": "stdout",
     "output_type": "stream",
     "text": [
      "Using device: cuda\n"
     ]
    },
    {
     "name": "stderr",
     "output_type": "stream",
     "text": [
      "\u001B[34m\u001B[1mwandb\u001B[0m: Currently logged in as: \u001B[33mdongtianchi\u001B[0m (\u001B[33mte-st\u001B[0m). Use \u001B[1m`wandb login --relogin`\u001B[0m to force relogin\n"
     ]
    },
    {
     "data": {
      "text/plain": "<IPython.core.display.HTML object>",
      "text/html": "wandb version 0.15.2 is available!  To upgrade, please run:\n $ pip install wandb --upgrade"
     },
     "metadata": {},
     "output_type": "display_data"
    },
    {
     "data": {
      "text/plain": "<IPython.core.display.HTML object>",
      "text/html": "Tracking run with wandb version 0.15.0"
     },
     "metadata": {},
     "output_type": "display_data"
    },
    {
     "data": {
      "text/plain": "<IPython.core.display.HTML object>",
      "text/html": "Run data is saved locally in <code>E:\\MagneticFields\\Project\\TwoD\\wandb\\run-20230509_091616-pvwe327q</code>"
     },
     "metadata": {},
     "output_type": "display_data"
    },
    {
     "data": {
      "text/plain": "<IPython.core.display.HTML object>",
      "text/html": "Syncing run <strong><a href='https://wandb.ai/te-st/MagAE_2D/runs/pvwe327q' target=\"_blank\">copper-breeze-16</a></strong> to <a href='https://wandb.ai/te-st/MagAE_2D' target=\"_blank\">Weights & Biases</a> (<a href='https://wandb.me/run' target=\"_blank\">docs</a>)<br/>"
     },
     "metadata": {},
     "output_type": "display_data"
    },
    {
     "data": {
      "text/plain": "<IPython.core.display.HTML object>",
      "text/html": " View project at <a href='https://wandb.ai/te-st/MagAE_2D' target=\"_blank\">https://wandb.ai/te-st/MagAE_2D</a>"
     },
     "metadata": {},
     "output_type": "display_data"
    },
    {
     "data": {
      "text/plain": "<IPython.core.display.HTML object>",
      "text/html": " View run at <a href='https://wandb.ai/te-st/MagAE_2D/runs/pvwe327q' target=\"_blank\">https://wandb.ai/te-st/MagAE_2D/runs/pvwe327q</a>"
     },
     "metadata": {},
     "output_type": "display_data"
    },
    {
     "name": "stdout",
     "output_type": "stream",
     "text": [
      "Epoch [1/100], Loss: 0.0475\n",
      "Epoch [2/100], Loss: 0.0389\n",
      "Epoch [3/100], Loss: 0.0332\n",
      "Epoch [4/100], Loss: 0.0299\n",
      "Epoch [5/100], Loss: 0.0278\n",
      "Epoch [6/100], Loss: 0.0216\n",
      "Epoch [7/100], Loss: 0.0186\n",
      "Epoch [8/100], Loss: 0.0146\n",
      "Epoch [9/100], Loss: 0.0165\n",
      "Epoch [10/100], Loss: 0.0126\n",
      "Epoch [11/100], Loss: 0.0094\n",
      "Epoch [12/100], Loss: 0.0120\n",
      "Epoch [13/100], Loss: 0.0108\n",
      "Epoch [14/100], Loss: 0.0107\n",
      "Epoch [15/100], Loss: 0.0094\n",
      "Epoch [16/100], Loss: 0.0081\n",
      "Epoch [17/100], Loss: 0.0083\n",
      "Epoch [18/100], Loss: 0.0081\n",
      "Epoch [19/100], Loss: 0.0084\n",
      "Epoch [20/100], Loss: 0.0075\n",
      "Epoch [21/100], Loss: 0.0081\n",
      "Epoch [22/100], Loss: 0.0067\n",
      "Epoch [23/100], Loss: 0.0072\n",
      "Epoch [24/100], Loss: 0.0059\n",
      "Epoch [25/100], Loss: 0.0050\n",
      "Epoch [26/100], Loss: 0.0058\n",
      "Epoch [27/100], Loss: 0.0062\n",
      "Epoch [28/100], Loss: 0.0052\n",
      "Epoch [29/100], Loss: 0.0056\n",
      "Epoch [30/100], Loss: 0.0040\n",
      "Epoch [31/100], Loss: 0.0049\n",
      "Epoch [32/100], Loss: 0.0051\n",
      "Epoch [33/100], Loss: 0.0043\n",
      "Epoch [34/100], Loss: 0.0058\n",
      "Epoch [35/100], Loss: 0.0045\n",
      "Epoch [36/100], Loss: 0.0046\n",
      "Epoch [37/100], Loss: 0.0038\n",
      "Epoch [38/100], Loss: 0.0045\n",
      "Epoch [39/100], Loss: 0.0048\n",
      "Epoch [40/100], Loss: 0.0042\n",
      "Epoch [41/100], Loss: 0.0044\n",
      "Epoch [42/100], Loss: 0.0055\n",
      "Epoch [43/100], Loss: 0.0045\n",
      "Epoch [44/100], Loss: 0.0036\n",
      "Epoch [45/100], Loss: 0.0048\n",
      "Epoch [46/100], Loss: 0.0033\n",
      "Epoch [47/100], Loss: 0.0040\n",
      "Epoch [48/100], Loss: 0.0042\n",
      "Epoch [49/100], Loss: 0.0043\n",
      "Epoch [50/100], Loss: 0.0026\n",
      "Epoch [51/100], Loss: 0.0030\n",
      "Epoch [52/100], Loss: 0.0046\n",
      "Epoch [53/100], Loss: 0.0026\n",
      "Epoch [54/100], Loss: 0.0038\n",
      "Epoch [55/100], Loss: 0.0035\n",
      "Epoch [56/100], Loss: 0.0038\n",
      "Epoch [57/100], Loss: 0.0032\n",
      "Epoch [58/100], Loss: 0.0039\n",
      "Epoch [59/100], Loss: 0.0035\n",
      "Epoch [60/100], Loss: 0.0031\n",
      "Epoch [61/100], Loss: 0.0033\n",
      "Epoch [62/100], Loss: 0.0043\n",
      "Epoch [63/100], Loss: 0.0042\n",
      "Epoch [64/100], Loss: 0.0035\n",
      "Epoch [65/100], Loss: 0.0034\n",
      "Epoch [66/100], Loss: 0.0037\n",
      "Epoch [67/100], Loss: 0.0026\n",
      "Epoch [68/100], Loss: 0.0032\n",
      "Epoch [69/100], Loss: 0.0034\n",
      "Epoch [70/100], Loss: 0.0034\n",
      "Epoch [71/100], Loss: 0.0041\n",
      "Epoch [72/100], Loss: 0.0028\n",
      "Epoch [73/100], Loss: 0.0034\n",
      "Epoch [74/100], Loss: 0.0030\n",
      "Epoch [75/100], Loss: 0.0034\n",
      "Epoch [76/100], Loss: 0.0025\n",
      "Epoch [77/100], Loss: 0.0025\n",
      "Epoch [78/100], Loss: 0.0039\n",
      "Epoch [79/100], Loss: 0.0027\n",
      "Epoch [80/100], Loss: 0.0028\n",
      "Epoch [81/100], Loss: 0.0035\n",
      "Epoch [82/100], Loss: 0.0031\n",
      "Epoch [83/100], Loss: 0.0025\n",
      "Epoch [84/100], Loss: 0.0026\n",
      "Epoch [85/100], Loss: 0.0041\n",
      "Epoch [86/100], Loss: 0.0042\n",
      "Epoch [87/100], Loss: 0.0024\n",
      "Epoch [88/100], Loss: 0.0027\n",
      "Epoch [89/100], Loss: 0.0027\n",
      "Epoch [90/100], Loss: 0.0027\n",
      "Epoch [91/100], Loss: 0.0034\n",
      "Epoch [92/100], Loss: 0.0028\n",
      "Epoch [93/100], Loss: 0.0036\n",
      "Epoch [94/100], Loss: 0.0029\n",
      "Epoch [95/100], Loss: 0.0029\n",
      "Epoch [96/100], Loss: 0.0043\n",
      "Epoch [97/100], Loss: 0.0027\n",
      "Epoch [98/100], Loss: 0.0029\n",
      "Epoch [99/100], Loss: 0.0025\n",
      "Epoch [100/100], Loss: 0.0029\n",
      "Test Loss: 0.0000\n"
     ]
    },
    {
     "data": {
      "text/plain": "<IPython.core.display.HTML object>",
      "text/html": "Waiting for W&B process to finish... <strong style=\"color:green\">(success).</strong>"
     },
     "metadata": {},
     "output_type": "display_data"
    },
    {
     "data": {
      "text/plain": "<IPython.core.display.HTML object>",
      "text/html": "<style>\n    table.wandb td:nth-child(1) { padding: 0 10px; text-align: left ; width: auto;} td:nth-child(2) {text-align: left ; width: 100%}\n    .wandb-row { display: flex; flex-direction: row; flex-wrap: wrap; justify-content: flex-start; width: 100% }\n    .wandb-col { display: flex; flex-direction: column; flex-basis: 100%; flex: 1; padding: 10px; }\n    </style>\n<div class=\"wandb-row\"><div class=\"wandb-col\"><h3>Run history:</h3><br/><table class=\"wandb\"><tr><td>Epochs</td><td>▁▁▁▁▂▂▂▂▂▃▃▃▃▃▃▄▄▄▄▄▅▅▅▅▅▅▆▆▆▆▆▇▇▇▇▇▇███</td></tr><tr><td>loss</td><td>█▆▄▃▂▂▂▂▂▂▂▁▁▂▁▁▁▁▁▁▁▁▁▁▁▁▁▁▁▁▁▁▁▁▁▁▁▁▁▁</td></tr><tr><td>test_loss</td><td>▁</td></tr></table><br/></div><div class=\"wandb-col\"><h3>Run summary:</h3><br/><table class=\"wandb\"><tr><td>Epochs</td><td>100</td></tr><tr><td>loss</td><td>0.00294</td></tr><tr><td>test_loss</td><td>3e-05</td></tr></table><br/></div></div>"
     },
     "metadata": {},
     "output_type": "display_data"
    },
    {
     "data": {
      "text/plain": "<IPython.core.display.HTML object>",
      "text/html": " View run <strong style=\"color:#cdcd00\">copper-breeze-16</strong> at: <a href='https://wandb.ai/te-st/MagAE_2D/runs/pvwe327q' target=\"_blank\">https://wandb.ai/te-st/MagAE_2D/runs/pvwe327q</a><br/>Synced 7 W&B file(s), 0 media file(s), 0 artifact file(s) and 0 other file(s)"
     },
     "metadata": {},
     "output_type": "display_data"
    },
    {
     "data": {
      "text/plain": "<IPython.core.display.HTML object>",
      "text/html": "Find logs at: <code>.\\wandb\\run-20230509_091616-pvwe327q\\logs</code>"
     },
     "metadata": {},
     "output_type": "display_data"
    }
   ],
   "source": [
    "import numpy as np\n",
    "import wandb\n",
    "import torch\n",
    "import torch.nn as nn\n",
    "import torch.optim as optim\n",
    "import torch.distributions as td\n",
    "import torch.nn.functional as F\n",
    "from torch.utils.data import DataLoader, TensorDataset\n",
    "from sklearn.model_selection import train_test_split\n",
    "import matplotlib.pyplot as plt\n",
    "\n",
    "class CNNAE(nn.Module):\n",
    "    def __init__(self):\n",
    "        super(CNNAE, self).__init__()\n",
    "\n",
    "        # 编码器\n",
    "        self.encoder = nn.Sequential(\n",
    "            nn.Conv2d(3, 16, 3, stride=2, padding=1),\n",
    "            nn.BatchNorm2d(16),\n",
    "            nn.PReLU(),\n",
    "            nn.Conv2d(16, 32, 3, stride=2, padding=1),\n",
    "            nn.BatchNorm2d(32),\n",
    "            nn.PReLU(),\n",
    "            nn.Conv2d(32, 64, 7),\n",
    "            nn.BatchNorm2d(64),\n",
    "            nn.PReLU(),\n",
    "            nn.Conv2d(64, 128, 3, stride=2, padding=1),\n",
    "            nn.BatchNorm2d(128),\n",
    "            nn.PReLU(),\n",
    "            nn.Conv2d(128, 256, 3, stride=2, padding=1),\n",
    "            nn.BatchNorm2d(256),\n",
    "            nn.PReLU(),\n",
    "        )\n",
    "\n",
    "        # 解码器\n",
    "        self.decoder = nn.Sequential(\n",
    "            nn.ConvTranspose2d(256, 128, 3, stride=2, padding=1, output_padding=1),\n",
    "            nn.BatchNorm2d(128),\n",
    "            nn.PReLU(),\n",
    "            nn.ConvTranspose2d(128, 64, 3, stride=2, padding=1, output_padding=1),\n",
    "            nn.BatchNorm2d(64),\n",
    "            nn.PReLU(),\n",
    "            nn.ConvTranspose2d(64, 32, 3, stride=2, padding=1, output_padding=1),\n",
    "            nn.BatchNorm2d(32),\n",
    "            nn.PReLU(),\n",
    "            nn.ConvTranspose2d(32, 16, 3, stride=2, padding=1, output_padding=1),\n",
    "            nn.BatchNorm2d(16),\n",
    "            nn.PReLU(),\n",
    "            nn.ConvTranspose2d(16, 3, 3, stride=2, padding=1, output_padding=1),\n",
    "            #nn.Sigmoid()\n",
    "        )\n",
    "\n",
    "    def forward(self, x):\n",
    "        x = self.encoder(x)\n",
    "        x = self.decoder(x)\n",
    "        return x\n",
    "\n",
    "\n",
    "if __name__ == \"__main__\":\n",
    "    # %%\n",
    "    learning_rate = 0.0005\n",
    "    batch_size = 64\n",
    "    num_epochs = 100\n",
    "\n",
    "    #DEVICE\n",
    "    device = torch.device(\"cuda\" if torch.cuda.is_available() else \"cpu\")\n",
    "    print(f\"Using device: {device}\")\n",
    "\n",
    "    # 初始化网络\n",
    "    model = CNNAE().to(device)\n",
    "    # 损失函数和优化器\n",
    "    criterion = nn.MSELoss()\n",
    "    optimizer = optim.Adam(model.parameters(), lr=learning_rate)\n",
    "\n",
    "    # 训练数据加载器\n",
    "    data = np.load(\"data4D.npy\", allow_pickle=True)\n",
    "    train_data, test_data = train_test_split(data, test_size=0.2, random_state=42)\n",
    "\n",
    "    train_data = torch.from_numpy(train_data).to(device)\n",
    "    test_data = torch.from_numpy(test_data).to(device)\n",
    "    train_loader = torch.utils.data.DataLoader(train_data, batch_size=batch_size, shuffle=True)\n",
    "    test_loader = torch.utils.data.DataLoader(test_data, batch_size=batch_size, shuffle=True)\n",
    "\n",
    "\n",
    "\n",
    "    wandb.init(\n",
    "        # set the wandb project where this run will be logged\n",
    "        project=\"MagAE_2D\",\n",
    "\n",
    "        # track hyperparameters and run metadata\n",
    "        config={\n",
    "            \"learning_rate\": learning_rate,\n",
    "            \"architecture\": \"CNN\",\n",
    "            \"dataset\": \"2DMag\",\n",
    "            \"epochs\": num_epochs,\n",
    "            \"batch_size\": batch_size,\n",
    "        })\n",
    "\n",
    "\n",
    "    for epoch in range(num_epochs):\n",
    "        for data in train_loader:\n",
    "            data = data.to(device)\n",
    "            optimizer.zero_grad()\n",
    "            outputs = model(data)\n",
    "            loss = criterion(outputs, data)\n",
    "            loss.backward()\n",
    "            optimizer.step()\n",
    "\n",
    "        wandb.log({\"Epochs\": epoch + 1, \"loss\": loss.item()})\n",
    "\n",
    "        print(f\"Epoch [{epoch + 1}/{num_epochs}], Loss: {loss.item():.4f}\")\n",
    "\n",
    "    with torch.no_grad():\n",
    "        test_loss = 0\n",
    "        for data in test_loader:\n",
    "            data = data.to(device)\n",
    "            recon_batch = model(data)\n",
    "            test_loss += criterion(recon_batch, data).item()\n",
    "        test_loss /= len(test_loader.dataset)\n",
    "        wandb.log({\"test_loss\": test_loss})\n",
    "        print(f\"Test Loss: {test_loss:.4f}\")\n",
    "\n",
    "    wandb.finish()"
   ]
  },
  {
   "cell_type": "code",
   "execution_count": 2,
   "outputs": [
    {
     "name": "stderr",
     "output_type": "stream",
     "text": [
      "Clipping input data to the valid range for imshow with RGB data ([0..1] for floats or [0..255] for integers).\n"
     ]
    },
    {
     "ename": "ValueError",
     "evalue": "axes don't match array",
     "output_type": "error",
     "traceback": [
      "\u001B[1;31m---------------------------------------------------------------------------\u001B[0m",
      "\u001B[1;31mValueError\u001B[0m                                Traceback (most recent call last)",
      "Cell \u001B[1;32mIn [2], line 24\u001B[0m\n\u001B[0;32m     21\u001B[0m     reconstructed_samples \u001B[38;5;241m=\u001B[39m [model(sample\u001B[38;5;241m.\u001B[39munsqueeze(\u001B[38;5;241m0\u001B[39m)\u001B[38;5;241m.\u001B[39mto(device)) \u001B[38;5;28;01mfor\u001B[39;00m sample \u001B[38;5;129;01min\u001B[39;00m samples]\n\u001B[0;32m     23\u001B[0m \u001B[38;5;66;03m# 绘制原始输入和预测结果\u001B[39;00m\n\u001B[1;32m---> 24\u001B[0m \u001B[43mplot_images\u001B[49m\u001B[43m(\u001B[49m\u001B[43msamples\u001B[49m\u001B[43m,\u001B[49m\u001B[43m \u001B[49m\u001B[43mreconstructed_samples\u001B[49m\u001B[43m)\u001B[49m\n",
      "Cell \u001B[1;32mIn [2], line 7\u001B[0m, in \u001B[0;36mplot_images\u001B[1;34m(original, reconstructed)\u001B[0m\n\u001B[0;32m      5\u001B[0m axes[\u001B[38;5;241m0\u001B[39m, i]\u001B[38;5;241m.\u001B[39mset_title(\u001B[38;5;124m\"\u001B[39m\u001B[38;5;124mOriginal\u001B[39m\u001B[38;5;124m\"\u001B[39m)\n\u001B[0;32m      6\u001B[0m axes[\u001B[38;5;241m0\u001B[39m, i]\u001B[38;5;241m.\u001B[39maxis(\u001B[38;5;124m\"\u001B[39m\u001B[38;5;124moff\u001B[39m\u001B[38;5;124m\"\u001B[39m)\n\u001B[1;32m----> 7\u001B[0m axes[\u001B[38;5;241m1\u001B[39m, i]\u001B[38;5;241m.\u001B[39mimshow(\u001B[43mnp\u001B[49m\u001B[38;5;241;43m.\u001B[39;49m\u001B[43mtranspose\u001B[49m\u001B[43m(\u001B[49m\u001B[43mreconstructed\u001B[49m\u001B[43m[\u001B[49m\u001B[43mi\u001B[49m\u001B[43m]\u001B[49m\u001B[38;5;241;43m.\u001B[39;49m\u001B[43mcpu\u001B[49m\u001B[43m(\u001B[49m\u001B[43m)\u001B[49m\u001B[38;5;241;43m.\u001B[39;49m\u001B[43mdetach\u001B[49m\u001B[43m(\u001B[49m\u001B[43m)\u001B[49m\u001B[38;5;241;43m.\u001B[39;49m\u001B[43mnumpy\u001B[49m\u001B[43m(\u001B[49m\u001B[43m)\u001B[49m\u001B[43m,\u001B[49m\u001B[43m \u001B[49m\u001B[43m(\u001B[49m\u001B[38;5;241;43m1\u001B[39;49m\u001B[43m,\u001B[49m\u001B[43m \u001B[49m\u001B[38;5;241;43m2\u001B[39;49m\u001B[43m,\u001B[49m\u001B[43m \u001B[49m\u001B[38;5;241;43m0\u001B[39;49m\u001B[43m)\u001B[49m\u001B[43m)\u001B[49m, cmap\u001B[38;5;241m=\u001B[39m\u001B[38;5;124m\"\u001B[39m\u001B[38;5;124mviridis\u001B[39m\u001B[38;5;124m\"\u001B[39m)\n\u001B[0;32m      8\u001B[0m axes[\u001B[38;5;241m1\u001B[39m, i]\u001B[38;5;241m.\u001B[39mset_title(\u001B[38;5;124m\"\u001B[39m\u001B[38;5;124mReconstructed\u001B[39m\u001B[38;5;124m\"\u001B[39m)\n\u001B[0;32m      9\u001B[0m axes[\u001B[38;5;241m1\u001B[39m, i]\u001B[38;5;241m.\u001B[39maxis(\u001B[38;5;124m\"\u001B[39m\u001B[38;5;124moff\u001B[39m\u001B[38;5;124m\"\u001B[39m)\n",
      "File \u001B[1;32m<__array_function__ internals>:180\u001B[0m, in \u001B[0;36mtranspose\u001B[1;34m(*args, **kwargs)\u001B[0m\n",
      "File \u001B[1;32mD:\\Anaconda3\\envs\\pytorch\\lib\\site-packages\\numpy\\core\\fromnumeric.py:660\u001B[0m, in \u001B[0;36mtranspose\u001B[1;34m(a, axes)\u001B[0m\n\u001B[0;32m    601\u001B[0m \u001B[38;5;129m@array_function_dispatch\u001B[39m(_transpose_dispatcher)\n\u001B[0;32m    602\u001B[0m \u001B[38;5;28;01mdef\u001B[39;00m \u001B[38;5;21mtranspose\u001B[39m(a, axes\u001B[38;5;241m=\u001B[39m\u001B[38;5;28;01mNone\u001B[39;00m):\n\u001B[0;32m    603\u001B[0m     \u001B[38;5;124;03m\"\"\"\u001B[39;00m\n\u001B[0;32m    604\u001B[0m \u001B[38;5;124;03m    Reverse or permute the axes of an array; returns the modified array.\u001B[39;00m\n\u001B[0;32m    605\u001B[0m \n\u001B[1;32m   (...)\u001B[0m\n\u001B[0;32m    658\u001B[0m \n\u001B[0;32m    659\u001B[0m \u001B[38;5;124;03m    \"\"\"\u001B[39;00m\n\u001B[1;32m--> 660\u001B[0m     \u001B[38;5;28;01mreturn\u001B[39;00m \u001B[43m_wrapfunc\u001B[49m\u001B[43m(\u001B[49m\u001B[43ma\u001B[49m\u001B[43m,\u001B[49m\u001B[43m \u001B[49m\u001B[38;5;124;43m'\u001B[39;49m\u001B[38;5;124;43mtranspose\u001B[39;49m\u001B[38;5;124;43m'\u001B[39;49m\u001B[43m,\u001B[49m\u001B[43m \u001B[49m\u001B[43maxes\u001B[49m\u001B[43m)\u001B[49m\n",
      "File \u001B[1;32mD:\\Anaconda3\\envs\\pytorch\\lib\\site-packages\\numpy\\core\\fromnumeric.py:57\u001B[0m, in \u001B[0;36m_wrapfunc\u001B[1;34m(obj, method, *args, **kwds)\u001B[0m\n\u001B[0;32m     54\u001B[0m     \u001B[38;5;28;01mreturn\u001B[39;00m _wrapit(obj, method, \u001B[38;5;241m*\u001B[39margs, \u001B[38;5;241m*\u001B[39m\u001B[38;5;241m*\u001B[39mkwds)\n\u001B[0;32m     56\u001B[0m \u001B[38;5;28;01mtry\u001B[39;00m:\n\u001B[1;32m---> 57\u001B[0m     \u001B[38;5;28;01mreturn\u001B[39;00m \u001B[43mbound\u001B[49m\u001B[43m(\u001B[49m\u001B[38;5;241;43m*\u001B[39;49m\u001B[43margs\u001B[49m\u001B[43m,\u001B[49m\u001B[43m \u001B[49m\u001B[38;5;241;43m*\u001B[39;49m\u001B[38;5;241;43m*\u001B[39;49m\u001B[43mkwds\u001B[49m\u001B[43m)\u001B[49m\n\u001B[0;32m     58\u001B[0m \u001B[38;5;28;01mexcept\u001B[39;00m \u001B[38;5;167;01mTypeError\u001B[39;00m:\n\u001B[0;32m     59\u001B[0m     \u001B[38;5;66;03m# A TypeError occurs if the object does have such a method in its\u001B[39;00m\n\u001B[0;32m     60\u001B[0m     \u001B[38;5;66;03m# class, but its signature is not identical to that of NumPy's. This\u001B[39;00m\n\u001B[1;32m   (...)\u001B[0m\n\u001B[0;32m     64\u001B[0m     \u001B[38;5;66;03m# Call _wrapit from within the except clause to ensure a potential\u001B[39;00m\n\u001B[0;32m     65\u001B[0m     \u001B[38;5;66;03m# exception has a traceback chain.\u001B[39;00m\n\u001B[0;32m     66\u001B[0m     \u001B[38;5;28;01mreturn\u001B[39;00m _wrapit(obj, method, \u001B[38;5;241m*\u001B[39margs, \u001B[38;5;241m*\u001B[39m\u001B[38;5;241m*\u001B[39mkwds)\n",
      "\u001B[1;31mValueError\u001B[0m: axes don't match array"
     ]
    },
    {
     "data": {
      "text/plain": "<Figure size 1500x500 with 10 Axes>",
      "image/png": "[encoded data removed]"
     },
     "metadata": {},
     "output_type": "display_data"
    }
   ],
   "source": [
    "def plot_images(original, reconstructed):\n",
    "    fig, axes = plt.subplots(nrows=2, ncols=len(original), figsize=(15, 5))\n",
    "    for i in range(len(original)):\n",
    "        axes[0, i].imshow(np.transpose(original[i].cpu().detach().numpy(), (1, 2, 0)), cmap=\"viridis\")\n",
    "        axes[0, i].set_title(\"Original\")\n",
    "        axes[0, i].axis(\"off\")\n",
    "        axes[1, i].imshow(np.transpose(reconstructed[i].cpu().detach().numpy(), (1, 2, 0)), cmap=\"viridis\")\n",
    "        axes[1, i].set_title(\"Reconstructed\")\n",
    "        axes[1, i].axis(\"off\")\n",
    "\n",
    "    plt.tight_layout()\n",
    "    plt.show()\n",
    "\n",
    "# 从测试集中选取一些样本\n",
    "sample_indices = [0, 1, 2, 3, 4]  # 你可以根据需要更改这些索引\n",
    "samples = [test_data[i] for i in sample_indices]\n",
    "\n",
    "# 使用模型进行预测\n",
    "model.eval()  # 将模型设置为评估模式\n",
    "with torch.no_grad():\n",
    "    reconstructed_samples = [model(sample.unsqueeze(0).to(device)) for sample in samples]\n",
    "\n",
    "# 绘制原始输入和预测结果\n",
    "plot_images(samples, reconstructed_samples)"
   ],
   "metadata": {
    "collapsed": false,
    "pycharm": {
     "name": "#%%\n"
    }
   }
  },
  {
   "cell_type": "code",
   "execution_count": null,
   "outputs": [],
   "source": [],
   "metadata": {
    "collapsed": false,
    "pycharm": {
     "name": "#%%\n"
    }
   }
  }
 ],
 "metadata": {
  "kernelspec": {
   "display_name": "Python 3",
   "language": "python",
   "name": "python3"
  },
  "language_info": {
   "codemirror_mode": {
    "name": "ipython",
    "version": 2
   },
   "file_extension": ".py",
   "mimetype": "text/x-python",
   "name": "python",
   "nbconvert_exporter": "python",
   "pygments_lexer": "ipython2",
   "version": "2.7.6"
  }
 },
 "nbformat": 4,
 "nbformat_minor": 0
}