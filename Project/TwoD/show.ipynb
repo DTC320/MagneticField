{
 "cells": [
  {
   "cell_type": "code",
   "execution_count": 17,
   "metadata": {
    "collapsed": true,
    "pycharm": {
     "name": "#%%\n"
    }
   },
   "outputs": [],
   "source": [
    "import numpy as np\n",
    "import wandb\n",
    "import torch\n",
    "import torch.nn as nn\n",
    "import torch.optim as optim\n",
    "import torch.distributions as td\n",
    "import torch.nn.functional as F\n",
    "from torch.utils.data import DataLoader, TensorDataset\n",
    "from sklearn.model_selection import train_test_split\n",
    "import matplotlib.pyplot as plt\n",
    "\n"
   ]
  },
  {
   "cell_type": "code",
   "execution_count": 18,
   "outputs": [],
   "source": [
    "class CNNAE(nn.Module):\n",
    "    def __init__(self):\n",
    "        super(CNNAE, self).__init__()\n",
    "\n",
    "        # 编码器\n",
    "        self.encoder = nn.Sequential(\n",
    "            nn.Conv2d(3, 16, 3, stride=2, padding=1),\n",
    "            nn.BatchNorm2d(16),\n",
    "            nn.PReLU(),\n",
    "            nn.Conv2d(16, 32, 3, stride=2, padding=1),\n",
    "            nn.BatchNorm2d(32),\n",
    "            nn.PReLU(),\n",
    "            nn.Conv2d(32, 64, 7),\n",
    "            nn.BatchNorm2d(64),\n",
    "            nn.PReLU(),\n",
    "            nn.Conv2d(64, 128, 3, stride=2, padding=1),\n",
    "            nn.BatchNorm2d(128),\n",
    "            nn.PReLU(),\n",
    "            nn.Conv2d(128, 256, 3, stride=2, padding=1),\n",
    "            nn.BatchNorm2d(256),\n",
    "            nn.PReLU(),\n",
    "        )\n",
    "\n",
    "        # 解码器\n",
    "        self.decoder = nn.Sequential(\n",
    "            nn.ConvTranspose2d(256, 128, 3, stride=2, padding=1, output_padding=1),\n",
    "            nn.BatchNorm2d(128),\n",
    "            nn.PReLU(),\n",
    "            nn.ConvTranspose2d(128, 64, 3, stride=2, padding=1, output_padding=1),\n",
    "            nn.BatchNorm2d(64),\n",
    "            nn.PReLU(),\n",
    "            nn.ConvTranspose2d(64, 32, 3, stride=2, padding=1, output_padding=1),\n",
    "            nn.BatchNorm2d(32),\n",
    "            nn.PReLU(),\n",
    "            nn.ConvTranspose2d(32, 16, 3, stride=2, padding=1, output_padding=1),\n",
    "            nn.BatchNorm2d(16),\n",
    "            nn.PReLU(),\n",
    "            nn.ConvTranspose2d(16, 3, 3, stride=2, padding=1, output_padding=1),\n",
    "            #nn.Sigmoid()\n",
    "        )\n",
    "\n",
    "    def forward(self, x):\n",
    "        x = self.encoder(x)\n",
    "        x = self.decoder(x)\n",
    "        return x"
   ],
   "metadata": {
    "collapsed": false,
    "pycharm": {
     "name": "#%%\n"
    }
   }
  },
  {
   "cell_type": "code",
   "execution_count": 19,
   "outputs": [],
   "source": [
    "def normalize_image(image):\n",
    "    return (image - np.min(image)) / (np.max(image) - np.min(image))"
   ],
   "metadata": {
    "collapsed": false,
    "pycharm": {
     "name": "#%%\n"
    }
   }
  },
  {
   "cell_type": "code",
   "execution_count": 20,
   "outputs": [],
   "source": [
    "def plot_reconstructions(model, data_loader, n_images=5, device=\"cpu\"):\n",
    "    model.eval()\n",
    "    with torch.no_grad():\n",
    "        for batch in data_loader:\n",
    "            input_images = batch[:n_images].to(device)\n",
    "            recon_images = model(input_images)\n",
    "            break\n",
    "\n",
    "    fig, axes = plt.subplots(2, n_images, figsize=(10, 4))\n",
    "    for i in range(n_images):\n",
    "        # Display original images\n",
    "        img = input_images[i].cpu().numpy().transpose(1, 2, 0)\n",
    "        img_normalized = normalize_image(img)\n",
    "        axes[0, i].imshow(img_normalized)\n",
    "        axes[0, i].set_title(\"Original\")\n",
    "        axes[0, i].axis(\"off\")\n",
    "\n",
    "        # Display reconstructed images\n",
    "        recon_img = recon_images[i].cpu().numpy().transpose(1, 2, 0)\n",
    "        recon_img_normalized = normalize_image(recon_img)\n",
    "        axes[1, i].imshow(recon_img_normalized)\n",
    "        axes[1, i].set_title(\"Reconstructed\")\n",
    "        axes[1, i].axis(\"off\")\n",
    "\n",
    "    plt.show()"
   ],
   "metadata": {
    "collapsed": false,
    "pycharm": {
     "name": "#%%\n"
    }
   }
  },
  {
   "cell_type": "code",
   "execution_count": 23,
   "outputs": [],
   "source": [
    "def compute_physical_constraint_loss(output):\n",
    "    dx = torch.Tensor([[-1, 0, 1], [-2, 0, 2], [-1, 0, 1]]) / 8\n",
    "    dy = torch.Tensor([[-1, -2, -1], [0, 0, 0], [1, 2, 1]]) / 8\n",
    "\n",
    "    dx = dx.view(1, 1, 3, 3).to(device)\n",
    "    dy = dy.view(1, 1, 3, 3).to(device)\n",
    "\n",
    "    grad_x_x = F.conv2d(output[:, 0:1], dx, padding=1)\n",
    "    grad_x_y = F.conv2d(output[:, 0:1], dy, padding=1)\n",
    "    grad_y_x = F.conv2d(output[:, 1:2], dx, padding=1)\n",
    "    grad_y_y = F.conv2d(output[:, 1:2], dy, padding=1)\n",
    "    grad_z_x = F.conv2d(output[:, 2:3], dx, padding=1)\n",
    "    grad_z_y = F.conv2d(output[:, 2:3], dy, padding=1)\n",
    "    grad_z_z = F.conv2d(output[:, 2:3], torch.zeros_like(dy), padding=1)\n",
    "\n",
    "    div = torch.abs(grad_x_x + grad_x_y) + torch.abs(grad_y_x + grad_y_y) + torch.abs(grad_z_x + grad_z_y + grad_z_z)\n",
    "    constraint_loss = torch.mean(div)\n",
    "\n",
    "    return constraint_loss\n"
   ],
   "metadata": {
    "collapsed": false,
    "pycharm": {
     "name": "#%%\n"
    }
   }
  },
  {
   "cell_type": "code",
   "execution_count": 24,
   "outputs": [
    {
     "name": "stdout",
     "output_type": "stream",
     "text": [
      "Using device: cuda\n"
     ]
    },
    {
     "data": {
      "text/plain": "<IPython.core.display.HTML object>",
      "text/html": "Finishing last run (ID:i7aclwo5) before initializing another..."
     },
     "metadata": {},
     "output_type": "display_data"
    },
    {
     "data": {
      "text/plain": "<IPython.core.display.HTML object>",
      "text/html": "Waiting for W&B process to finish... <strong style=\"color:green\">(success).</strong>"
     },
     "metadata": {},
     "output_type": "display_data"
    },
    {
     "data": {
      "text/plain": "VBox(children=(Label(value='0.120 MB of 0.209 MB uploaded (0.000 MB deduped)\\r'), FloatProgress(value=0.572109…",
      "application/vnd.jupyter.widget-view+json": {
       "version_major": 2,
       "version_minor": 0,
       "model_id": "9bfb45fe3b594c16a85ded3901fdaae3"
      }
     },
     "metadata": {},
     "output_type": "display_data"
    },
    {
     "data": {
      "text/plain": "<IPython.core.display.HTML object>",
      "text/html": " View run <strong style=\"color:#cdcd00\">chocolate-monkey-20</strong> at: <a href='https://wandb.ai/te-st/MagAE_2D/runs/i7aclwo5' target=\"_blank\">https://wandb.ai/te-st/MagAE_2D/runs/i7aclwo5</a><br/>Synced 7 W&B file(s), 0 media file(s), 0 artifact file(s) and 0 other file(s)"
     },
     "metadata": {},
     "output_type": "display_data"
    },
    {
     "data": {
      "text/plain": "<IPython.core.display.HTML object>",
      "text/html": "Find logs at: <code>.\\wandb\\run-20230509_094807-i7aclwo5\\logs</code>"
     },
     "metadata": {},
     "output_type": "display_data"
    },
    {
     "data": {
      "text/plain": "<IPython.core.display.HTML object>",
      "text/html": "Successfully finished last run (ID:i7aclwo5). Initializing new run:<br/>"
     },
     "metadata": {},
     "output_type": "display_data"
    },
    {
     "data": {
      "text/plain": "VBox(children=(Label(value='Waiting for wandb.init()...\\r'), FloatProgress(value=0.016933333333334608, max=1.0…",
      "application/vnd.jupyter.widget-view+json": {
       "version_major": 2,
       "version_minor": 0,
       "model_id": "979a59501af946d58fbd385430dfce3a"
      }
     },
     "metadata": {},
     "output_type": "display_data"
    },
    {
     "data": {
      "text/plain": "<IPython.core.display.HTML object>",
      "text/html": "wandb version 0.15.2 is available!  To upgrade, please run:\n $ pip install wandb --upgrade"
     },
     "metadata": {},
     "output_type": "display_data"
    },
    {
     "data": {
      "text/plain": "<IPython.core.display.HTML object>",
      "text/html": "Tracking run with wandb version 0.15.0"
     },
     "metadata": {},
     "output_type": "display_data"
    },
    {
     "data": {
      "text/plain": "<IPython.core.display.HTML object>",
      "text/html": "Run data is saved locally in <code>E:\\MagneticFields\\Project\\TwoD\\wandb\\run-20230509_095403-4kuvby21</code>"
     },
     "metadata": {},
     "output_type": "display_data"
    },
    {
     "data": {
      "text/plain": "<IPython.core.display.HTML object>",
      "text/html": "Syncing run <strong><a href='https://wandb.ai/te-st/MagAE_2D/runs/4kuvby21' target=\"_blank\">sunny-serenity-21</a></strong> to <a href='https://wandb.ai/te-st/MagAE_2D' target=\"_blank\">Weights & Biases</a> (<a href='https://wandb.me/run' target=\"_blank\">docs</a>)<br/>"
     },
     "metadata": {},
     "output_type": "display_data"
    },
    {
     "data": {
      "text/plain": "<IPython.core.display.HTML object>",
      "text/html": " View project at <a href='https://wandb.ai/te-st/MagAE_2D' target=\"_blank\">https://wandb.ai/te-st/MagAE_2D</a>"
     },
     "metadata": {},
     "output_type": "display_data"
    },
    {
     "data": {
      "text/plain": "<IPython.core.display.HTML object>",
      "text/html": " View run at <a href='https://wandb.ai/te-st/MagAE_2D/runs/4kuvby21' target=\"_blank\">https://wandb.ai/te-st/MagAE_2D/runs/4kuvby21</a>"
     },
     "metadata": {},
     "output_type": "display_data"
    },
    {
     "name": "stdout",
     "output_type": "stream",
     "text": [
      "Epoch [1/100], Loss: 0.0557\n",
      "Epoch [2/100], Loss: 0.0561\n",
      "Epoch [3/100], Loss: 0.0486\n",
      "Epoch [4/100], Loss: 0.0460\n",
      "Epoch [5/100], Loss: 0.0496\n",
      "Epoch [6/100], Loss: 0.0425\n",
      "Epoch [7/100], Loss: 0.0359\n",
      "Epoch [8/100], Loss: 0.0403\n",
      "Epoch [9/100], Loss: 0.0385\n",
      "Epoch [10/100], Loss: 0.0389\n",
      "Epoch [11/100], Loss: 0.0440\n",
      "Epoch [12/100], Loss: 0.0407\n",
      "Epoch [13/100], Loss: 0.0378\n",
      "Epoch [14/100], Loss: 0.0410\n",
      "Epoch [15/100], Loss: 0.0423\n",
      "Epoch [16/100], Loss: 0.0356\n",
      "Epoch [17/100], Loss: 0.0350\n",
      "Epoch [18/100], Loss: 0.0385\n",
      "Epoch [19/100], Loss: 0.0340\n",
      "Epoch [20/100], Loss: 0.0313\n",
      "Epoch [21/100], Loss: 0.0361\n",
      "Epoch [22/100], Loss: 0.0268\n",
      "Epoch [23/100], Loss: 0.0225\n",
      "Epoch [24/100], Loss: 0.0218\n",
      "Epoch [25/100], Loss: 0.0213\n",
      "Epoch [26/100], Loss: 0.0219\n",
      "Epoch [27/100], Loss: 0.0216\n",
      "Epoch [28/100], Loss: 0.0197\n",
      "Epoch [29/100], Loss: 0.0235\n",
      "Epoch [30/100], Loss: 0.0178\n",
      "Epoch [31/100], Loss: 0.0203\n",
      "Epoch [32/100], Loss: 0.0192\n",
      "Epoch [33/100], Loss: 0.0196\n",
      "Epoch [34/100], Loss: 0.0177\n",
      "Epoch [35/100], Loss: 0.0205\n",
      "Epoch [36/100], Loss: 0.0190\n",
      "Epoch [37/100], Loss: 0.0192\n",
      "Epoch [38/100], Loss: 0.0197\n",
      "Epoch [39/100], Loss: 0.0179\n",
      "Epoch [40/100], Loss: 0.0194\n",
      "Epoch [41/100], Loss: 0.0162\n",
      "Epoch [42/100], Loss: 0.0175\n",
      "Epoch [43/100], Loss: 0.0190\n",
      "Epoch [44/100], Loss: 0.0165\n",
      "Epoch [45/100], Loss: 0.0173\n",
      "Epoch [46/100], Loss: 0.0158\n",
      "Epoch [47/100], Loss: 0.0165\n",
      "Epoch [48/100], Loss: 0.0153\n",
      "Epoch [49/100], Loss: 0.0160\n",
      "Epoch [50/100], Loss: 0.0156\n",
      "Epoch [51/100], Loss: 0.0171\n",
      "Epoch [52/100], Loss: 0.0156\n",
      "Epoch [53/100], Loss: 0.0153\n",
      "Epoch [54/100], Loss: 0.0172\n",
      "Epoch [55/100], Loss: 0.0165\n",
      "Epoch [56/100], Loss: 0.0160\n",
      "Epoch [57/100], Loss: 0.0150\n",
      "Epoch [58/100], Loss: 0.0169\n",
      "Epoch [59/100], Loss: 0.0163\n",
      "Epoch [60/100], Loss: 0.0149\n",
      "Epoch [61/100], Loss: 0.0160\n",
      "Epoch [62/100], Loss: 0.0153\n",
      "Epoch [63/100], Loss: 0.0161\n",
      "Epoch [64/100], Loss: 0.0158\n",
      "Epoch [65/100], Loss: 0.0157\n",
      "Epoch [66/100], Loss: 0.0144\n",
      "Epoch [67/100], Loss: 0.0152\n",
      "Epoch [68/100], Loss: 0.0162\n",
      "Epoch [69/100], Loss: 0.0162\n",
      "Epoch [70/100], Loss: 0.0143\n",
      "Epoch [71/100], Loss: 0.0152\n",
      "Epoch [72/100], Loss: 0.0157\n",
      "Epoch [73/100], Loss: 0.0145\n",
      "Epoch [74/100], Loss: 0.0144\n",
      "Epoch [75/100], Loss: 0.0137\n",
      "Epoch [76/100], Loss: 0.0152\n",
      "Epoch [77/100], Loss: 0.0151\n",
      "Epoch [78/100], Loss: 0.0154\n",
      "Epoch [79/100], Loss: 0.0133\n",
      "Epoch [80/100], Loss: 0.0171\n",
      "Epoch [81/100], Loss: 0.0160\n",
      "Epoch [82/100], Loss: 0.0147\n",
      "Epoch [83/100], Loss: 0.0167\n",
      "Epoch [84/100], Loss: 0.0131\n",
      "Epoch [85/100], Loss: 0.0172\n",
      "Epoch [86/100], Loss: 0.0168\n",
      "Epoch [87/100], Loss: 0.0166\n",
      "Epoch [88/100], Loss: 0.0153\n",
      "Epoch [89/100], Loss: 0.0152\n",
      "Epoch [90/100], Loss: 0.0151\n",
      "Epoch [91/100], Loss: 0.0158\n",
      "Epoch [92/100], Loss: 0.0144\n",
      "Epoch [93/100], Loss: 0.0144\n",
      "Epoch [94/100], Loss: 0.0163\n",
      "Epoch [95/100], Loss: 0.0157\n",
      "Epoch [96/100], Loss: 0.0160\n",
      "Epoch [97/100], Loss: 0.0128\n",
      "Epoch [98/100], Loss: 0.0154\n",
      "Epoch [99/100], Loss: 0.0137\n",
      "Epoch [100/100], Loss: 0.0140\n",
      "Test Loss: 0.0001\n"
     ]
    },
    {
     "data": {
      "text/plain": "<IPython.core.display.HTML object>",
      "text/html": "Waiting for W&B process to finish... <strong style=\"color:green\">(success).</strong>"
     },
     "metadata": {},
     "output_type": "display_data"
    },
    {
     "data": {
      "text/plain": "VBox(children=(Label(value='0.120 MB of 0.120 MB uploaded (0.000 MB deduped)\\r'), FloatProgress(value=1.0, max…",
      "application/vnd.jupyter.widget-view+json": {
       "version_major": 2,
       "version_minor": 0,
       "model_id": "e6aa034731cc43c795dec5c4a5222964"
      }
     },
     "metadata": {},
     "output_type": "display_data"
    },
    {
     "data": {
      "text/plain": "<IPython.core.display.HTML object>",
      "text/html": "<style>\n    table.wandb td:nth-child(1) { padding: 0 10px; text-align: left ; width: auto;} td:nth-child(2) {text-align: left ; width: 100%}\n    .wandb-row { display: flex; flex-direction: row; flex-wrap: wrap; justify-content: flex-start; width: 100% }\n    .wandb-col { display: flex; flex-direction: column; flex-basis: 100%; flex: 1; padding: 10px; }\n    </style>\n<div class=\"wandb-row\"><div class=\"wandb-col\"><h3>Run history:</h3><br/><table class=\"wandb\"><tr><td>Epochs</td><td>▁▁▁▁▂▂▂▂▂▃▃▃▃▃▃▄▄▄▄▄▅▅▅▅▅▅▆▆▆▆▆▇▇▇▇▇▇███</td></tr><tr><td>loss</td><td>█▇▆▅▆▅▅▅▅▃▂▂▂▂▂▂▂▂▁▂▂▂▂▂▂▂▁▂▁▁▁▁▁▁▂▁▁▂▁▁</td></tr><tr><td>test_loss</td><td>▁</td></tr></table><br/></div><div class=\"wandb-col\"><h3>Run summary:</h3><br/><table class=\"wandb\"><tr><td>Epochs</td><td>100</td></tr><tr><td>loss</td><td>0.01395</td></tr><tr><td>test_loss</td><td>7e-05</td></tr></table><br/></div></div>"
     },
     "metadata": {},
     "output_type": "display_data"
    },
    {
     "data": {
      "text/plain": "<IPython.core.display.HTML object>",
      "text/html": " View run <strong style=\"color:#cdcd00\">sunny-serenity-21</strong> at: <a href='https://wandb.ai/te-st/MagAE_2D/runs/4kuvby21' target=\"_blank\">https://wandb.ai/te-st/MagAE_2D/runs/4kuvby21</a><br/>Synced 7 W&B file(s), 0 media file(s), 0 artifact file(s) and 1 other file(s)"
     },
     "metadata": {},
     "output_type": "display_data"
    },
    {
     "data": {
      "text/plain": "<IPython.core.display.HTML object>",
      "text/html": "Find logs at: <code>.\\wandb\\run-20230509_095403-4kuvby21\\logs</code>"
     },
     "metadata": {},
     "output_type": "display_data"
    }
   ],
   "source": [
    "if __name__ == \"__main__\":\n",
    "    # %%\n",
    "    learning_rate = 0.0005\n",
    "    batch_size = 64\n",
    "    num_epochs = 100\n",
    "    alpha = 0.1  # 物理约束损失的权重\n",
    "    #DEVICE\n",
    "    device = torch.device(\"cuda\" if torch.cuda.is_available() else \"cpu\")\n",
    "    print(f\"Using device: {device}\")\n",
    "\n",
    "    # 初始化网络\n",
    "    model = CNNAE().to(device)\n",
    "    # 损失函数和优化器\n",
    "    criterion = nn.MSELoss()\n",
    "    optimizer = optim.Adam(model.parameters(), lr=learning_rate)\n",
    "\n",
    "    # 训练数据加载器\n",
    "    data = np.load(\"data4D.npy\", allow_pickle=True)\n",
    "    train_data, test_data = train_test_split(data, test_size=0.2, random_state=42)\n",
    "\n",
    "    train_data = torch.from_numpy(train_data).to(device)\n",
    "    test_data = torch.from_numpy(test_data).to(device)\n",
    "    train_loader = torch.utils.data.DataLoader(train_data, batch_size=batch_size, shuffle=True)\n",
    "    test_loader = torch.utils.data.DataLoader(test_data, batch_size=batch_size, shuffle=True)\n",
    "\n",
    "\n",
    "\n",
    "    wandb.init(\n",
    "        # set the wandb project where this run will be logged\n",
    "        project=\"MagAE_2D\",\n",
    "\n",
    "        # track hyperparameters and run metadata\n",
    "        config={\n",
    "            \"learning_rate\": learning_rate,\n",
    "            \"architecture\": \"CNN\",\n",
    "            \"dataset\": \"2DMag\",\n",
    "            \"epochs\": num_epochs,\n",
    "            \"batch_size\": batch_size,\n",
    "        })\n",
    "\n",
    "\n",
    "    for epoch in range(num_epochs):\n",
    "        for data in train_loader:\n",
    "            data = data.to(device)\n",
    "            optimizer.zero_grad()\n",
    "            outputs = model(data)\n",
    "\n",
    "            # 使用物理信息损失函数\n",
    "            reconstruction_loss = criterion(outputs, data)\n",
    "            constraint_loss = compute_physical_constraint_loss(outputs)\n",
    "            loss = reconstruction_loss + alpha * constraint_loss\n",
    "\n",
    "\n",
    "\n",
    "            #loss = criterion(outputs, data)\n",
    "            loss.backward()\n",
    "            optimizer.step()\n",
    "\n",
    "        wandb.log({\"Epochs\": epoch + 1, \"loss\": loss.item()})\n",
    "\n",
    "        print(f\"Epoch [{epoch + 1}/{num_epochs}], Loss: {loss.item():.4f}\")\n",
    "\n",
    "    with torch.no_grad():\n",
    "        test_loss = 0\n",
    "        for data in test_loader:\n",
    "            data = data.to(device)\n",
    "            recon_batch = model(data)\n",
    "            test_loss += criterion(recon_batch, data).item()\n",
    "        test_loss /= len(test_loader.dataset)\n",
    "        wandb.log({\"test_loss\": test_loss})\n",
    "        print(f\"Test Loss: {test_loss:.4f}\")\n",
    "\n",
    "\n",
    "    wandb.finish()"
   ],
   "metadata": {
    "collapsed": false,
    "pycharm": {
     "name": "#%%\n"
    }
   }
  },
  {
   "cell_type": "code",
   "execution_count": 6,
   "outputs": [],
   "source": [
    "torch.save(model,\"AE2D.pkl\")"
   ],
   "metadata": {
    "collapsed": false,
    "pycharm": {
     "name": "#%%\n"
    }
   }
  },
  {
   "cell_type": "code",
   "execution_count": 25,
   "outputs": [
    {
     "data": {
      "text/plain": "<Figure size 1000x400 with 10 Axes>",
      "image/png": "[encoded data removed]"
     },
     "metadata": {},
     "output_type": "display_data"
    }
   ],
   "source": [
    "\n",
    "with torch.no_grad():\n",
    "    plot_reconstructions(model, test_loader, n_images=5, device=device)"
   ],
   "metadata": {
    "collapsed": false,
    "pycharm": {
     "name": "#%%\n"
    }
   }
  },
  {
   "cell_type": "code",
   "execution_count": 13,
   "outputs": [
    {
     "name": "stdout",
     "output_type": "stream",
     "text": [
      "Compression rate: 12.0000\n"
     ]
    }
   ],
   "source": [
    "# 计算数据大小\n",
    "original_size = 3 * 32 * 32\n",
    "compressed_size = 256 * 1 * 1\n",
    "\n",
    "# 计算压缩率\n",
    "compression_rate = original_size / compressed_size\n",
    "\n",
    "print(f\"Compression rate: {compression_rate:.4f}\")"
   ],
   "metadata": {
    "collapsed": false,
    "pycharm": {
     "name": "#%%\n"
    }
   }
  },
  {
   "cell_type": "code",
   "execution_count": null,
   "outputs": [],
   "source": [],
   "metadata": {
    "collapsed": false,
    "pycharm": {
     "name": "#%%\n"
    }
   }
  }
 ],
 "metadata": {
  "kernelspec": {
   "display_name": "Python 3",
   "language": "python",
   "name": "python3"
  },
  "language_info": {
   "codemirror_mode": {
    "name": "ipython",
    "version": 2
   },
   "file_extension": ".py",
   "mimetype": "text/x-python",
   "name": "python",
   "nbconvert_exporter": "python",
   "pygments_lexer": "ipython2",
   "version": "2.7.6"
  }
 },
 "nbformat": 4,
 "nbformat_minor": 0
}